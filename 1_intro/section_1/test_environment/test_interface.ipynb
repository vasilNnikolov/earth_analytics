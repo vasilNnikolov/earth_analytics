{
 "cells": [
  {
   "cell_type": "markdown",
   "metadata": {},
   "source": [
    "## some analysis\n",
    "here is *some* of my analysis\n",
    "1. cum cum cum\n",
    "2. pussy\n",
    "3. some more text idk\n",
    "4. final line of text\n",
    "***\n",
    "\n",
    "# heading 1\n",
    "alskdfj\n",
    "laksfj\n",
    "## heading 2\n",
    "### heading 3\n",
    "`code highlighting`"
   ]
  },
  {
   "cell_type": "code",
   "execution_count": 1,
   "metadata": {},
   "outputs": [
    {
     "data": {
      "image/png": "[encoded data removed]",
      "text/plain": [
       "<Figure size 432x288 with 1 Axes>"
      ]
     },
     "metadata": {
      "needs_background": "light"
     },
     "output_type": "display_data"
    }
   ],
   "source": [
    "# Import necessary packages\n",
    "import matplotlib.pyplot as plt\n",
    "import pandas as pd\n",
    "\n",
    "def boulder_precipitation():\n",
    "    # Create data\n",
    "    boulder_precip = pd.DataFrame(columns=[\"date\", \"precip\"], \n",
    "                                data=[\n",
    "                                [\"2013-09-09\", 0.1], [\"2013-09-10\", 1.0], \n",
    "                                [\"2013-09-11\", 2.3], [\"2013-09-12\", 9.8], [\"2013-09-13\", 1.9],\n",
    "                                [\"2013-09-14\", 0.01], [\"2013-09-15\", 1.4], [\"2013-09-16\", 0.4]])      \n",
    "    # Create plot\n",
    "    fig, ax = plt.subplots()\n",
    "    ax.bar(boulder_precip['date'].values, boulder_precip['precip'].values)\n",
    "    ax.set(title=\"Daily Precipitation (inches)\\nBoulder, Colorado 2013\", \n",
    "            xlabel=\"Date\", ylabel=\"Precipitation (Inches)\")\n",
    "    plt.setp(ax.get_xticklabels(), rotation=45);\n",
    "    plt.show()\n",
    "\n",
    "def cum():\n",
    "    print(\"cum\")\n",
    "\n",
    "if __name__ == \"__main__\":\n",
    "    boulder_precipitation()\n",
    "    cum()"
   ]
  },
  {
   "cell_type": "code",
   "execution_count": null,
   "metadata": {},
   "outputs": [],
   "source": []
  }
 ],
 "metadata": {
  "interpreter": {
   "hash": "7a4be0ef76659acd49b179f4b11ea9481c4d4c540e654bfb955bdd5befd2dcf2"
  },
  "kernelspec": {
   "display_name": "Python 3.8.10 64-bit ('venv': venv)",
   "language": "python",
   "name": "python3"
  },
  "language_info": {
   "codemirror_mode": {
    "name": "ipython",
    "version": 3
   },
   "file_extension": ".py",
   "mimetype": "text/x-python",
   "name": "python",
   "nbconvert_exporter": "python",
   "pygments_lexer": "ipython3",
   "version": "3.8.10"
  },
  "orig_nbformat": 4
 },
 "nbformat": 4,
 "nbformat_minor": 2
}
