{
 "cells": [
  {
   "cell_type": "code",
   "execution_count": 65,
   "metadata": {},
   "outputs": [
    {
     "name": "stdout",
     "output_type": "stream",
     "text": [
      "  site_code year month day hour minute second time_decimal value value_std_dev nvalue latitude longitude altitude elevation intake_height qcflag\n",
      "0  BRW 1973 1 1 0 0 0 1973.0 -999.99 -99.99 0 71....                                                                                            \n",
      "1  BRW 1973 2 1 0 0 0 1973.0849315068492 -999.99 ...                                                                                            \n",
      "2  BRW 1973 3 1 0 0 0 1973.1616438356164 -999.99 ...                                                                                            \n",
      "3  BRW 1973 4 1 0 0 0 1973.2465753424658 -999.99 ...                                                                                            \n",
      "4  BRW 1973 5 1 0 0 0 1973.3287671232877 -999.99 ...                                                                                            \n",
      "5  BRW 1973 6 1 0 0 0 1973.4136986301369 -999.99 ...                                                                                            \n",
      "6  BRW 1973 7 1 0 0 0 1973.495890410959 324.53 0....                                                                                            \n",
      "7  BRW 1973 8 1 0 0 0 1973.5808219178082 322.73 0...                                                                                            \n",
      "8  BRW 1973 9 1 0 0 0 1973.6657534246576 324.79 1...                                                                                            \n",
      "9  BRW 1973 10 1 0 0 0 1973.7479452054795 329.86 ...                                                                                            \n"
     ]
    }
   ],
   "source": [
    "import os\n",
    "import pandas as pd\n",
    "import matplotlib.pyplot as plt\n",
    "\n",
    "def temperatures():\n",
    "    def plot_temperature(df: pd.DataFrame, location):\n",
    "        fig, axis = plt.subplots(1, 1)\n",
    "        fig.suptitle(f\"{location} max temperature, F\")\n",
    "        df[\"Year\"] = pd.Series([int(date/100) for date in df[\"Date\"]])\n",
    "        df.plot(x=\"Year\", y=\"Value\", ax=axis)\n",
    "        axis.set_ylabel(\"Max temperature, F\")\n",
    "        \n",
    "        plt.show()\n",
    "\n",
    "    miami_data_url = \"https://www.ncdc.noaa.gov/cag/city/time-series/USW00012839-tmax-12-12-1895-2020.csv\"\n",
    "    seattle_data_url = \"https://www.ncdc.noaa.gov/cag/city/time-series/USW00013895-tmax-1-5-1895-2020.csv\"\n",
    "\n",
    "    miami_data = pd.read_csv(miami_data_url, skiprows=3, na_values=-99)\n",
    "    seattle_data = pd.read_csv(seattle_data_url, skiprows=3, na_values=-99)\n",
    "\n",
    "    plot_temperature(miami_data, \"Miami\")\n",
    "    plot_temperature(seattle_data, \"Seattle\")\n",
    "\n",
    "def co2_data():\n",
    "    # import urllib.request\n",
    "    filename = \"co2-emissions-barrow.csv\"\n",
    "    # greenhouse_gas_url = \"ftp://aftp.cmdl.noaa.gov/data/trace_gases/co2/in-situ/surface/brw/co2_brw_surface-insitu_1_ccgg_MonthlyData.txt\"\n",
    "\n",
    "    # urllib.request.urlretrieve(url=greenhouse_gas_url, filename=filename)\n",
    "    brw_data = pd.read_csv(filename, skiprows=149)\n",
    "    print(brw_data.head(10))\n",
    "    fig, ax = plt.subplots()\n",
    "    fig.suptitle(\"CO2 levels in Barrow, AK\")\n",
    "    brw_data.plot(x=\"time_decimal\", y=\"value\", ax=ax)\n",
    "\n",
    "    plt.show()\n",
    "\n",
    "if __name__ == \"__main__\":\n",
    "    co2_data()\n",
    "\n",
    "\n",
    "\n"
   ]
  }
 ],
 "metadata": {
  "interpreter": {
   "hash": "7a4be0ef76659acd49b179f4b11ea9481c4d4c540e654bfb955bdd5befd2dcf2"
  },
  "kernelspec": {
   "display_name": "Python 3.8.10 64-bit ('venv': venv)",
   "language": "python",
   "name": "python3"
  },
  "language_info": {
   "codemirror_mode": {
    "name": "ipython",
    "version": 3
   },
   "file_extension": ".py",
   "mimetype": "text/x-python",
   "name": "python",
   "nbconvert_exporter": "python",
   "pygments_lexer": "ipython3",
   "version": "3.8.10"
  },
  "orig_nbformat": 4
 },
 "nbformat": 4,
 "nbformat_minor": 2
}
